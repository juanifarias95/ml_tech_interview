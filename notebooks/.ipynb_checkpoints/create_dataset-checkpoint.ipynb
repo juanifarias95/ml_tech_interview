{
 "cells": [
  {
   "cell_type": "markdown",
   "metadata": {},
   "source": [
    "## 1. Define the problem"
   ]
  },
  {
   "cell_type": "markdown",
   "metadata": {},
   "source": [
    "For this project, our task is to design a machine learning model to predict if an item is new or used, and the evaluate the model over the held out test data.\n",
    "\n",
    "The Dataset is already provided, but we have to  do some preprocessing work over it."
   ]
  },
  {
   "cell_type": "markdown",
   "metadata": {},
   "source": [
    "## 2. Gather the data"
   ]
  },
  {
   "cell_type": "markdown",
   "metadata": {},
   "source": [
    "In this case, a function is provided to us to build the dataset, so we'll take a look over it.\n",
    "\n",
    "Also, we'll built the dataset set into a dataframe so we can explore a little bit it data."
   ]
  },
  {
   "cell_type": "code",
   "execution_count": 1,
   "metadata": {},
   "outputs": [],
   "source": [
    "import json\n",
    "import pandas as pd\n",
    "\n",
    "import warnings\n",
    "warnings.filterwarnings('ignore')"
   ]
  },
  {
   "cell_type": "code",
   "execution_count": 2,
   "metadata": {},
   "outputs": [],
   "source": [
    "def build_dataset():\n",
    "    data = [json.loads(x) for x in open(\"../data/MLA_100k.jsonlines\")]\n",
    "    target = lambda x: x.get(\"condition\")\n",
    "    N = -10000\n",
    "    X_train = data[:N]\n",
    "    X_test = data[N:]\n",
    "    y_train = [target(x) for x in X_train]\n",
    "    y_test = [target(x) for x in X_test]\n",
    "    for x in X_train:\n",
    "        del x[\"condition\"]\n",
    "    for y in X_test:\n",
    "        del y[\"condition\"]\n",
    "\n",
    "    return X_train, y_train, X_test, y_test"
   ]
  },
  {
   "cell_type": "code",
   "execution_count": 3,
   "metadata": {},
   "outputs": [],
   "source": [
    "X_train, y_train, X_test, y_test = build_dataset()"
   ]
  },
  {
   "cell_type": "code",
   "execution_count": 4,
   "metadata": {},
   "outputs": [
    {
     "data": {
      "text/plain": [
       "47"
      ]
     },
     "execution_count": 4,
     "metadata": {},
     "output_type": "execute_result"
    }
   ],
   "source": [
    "len(list(X_train[0].keys()))"
   ]
  },
  {
   "cell_type": "code",
   "execution_count": 5,
   "metadata": {},
   "outputs": [
    {
     "data": {
      "text/plain": [
       "47"
      ]
     },
     "execution_count": 5,
     "metadata": {},
     "output_type": "execute_result"
    }
   ],
   "source": [
    "len(list(X_test[0].keys()))"
   ]
  },
  {
   "cell_type": "code",
   "execution_count": 6,
   "metadata": {},
   "outputs": [
    {
     "data": {
      "text/plain": [
       "90000"
      ]
     },
     "execution_count": 6,
     "metadata": {},
     "output_type": "execute_result"
    }
   ],
   "source": [
    "len(X_train)"
   ]
  },
  {
   "cell_type": "code",
   "execution_count": 7,
   "metadata": {},
   "outputs": [
    {
     "data": {
      "text/plain": [
       "90000"
      ]
     },
     "execution_count": 7,
     "metadata": {},
     "output_type": "execute_result"
    }
   ],
   "source": [
    "len(y_train)"
   ]
  },
  {
   "cell_type": "code",
   "execution_count": 8,
   "metadata": {},
   "outputs": [
    {
     "data": {
      "text/plain": [
       "10000"
      ]
     },
     "execution_count": 8,
     "metadata": {},
     "output_type": "execute_result"
    }
   ],
   "source": [
    "len(X_test)"
   ]
  },
  {
   "cell_type": "code",
   "execution_count": 9,
   "metadata": {},
   "outputs": [
    {
     "data": {
      "text/plain": [
       "10000"
      ]
     },
     "execution_count": 9,
     "metadata": {},
     "output_type": "execute_result"
    }
   ],
   "source": [
    "len(y_test)"
   ]
  },
  {
   "cell_type": "markdown",
   "metadata": {},
   "source": [
    "Now, we'll build the dataframes. Also we won't have consideration about pictures, seller_address information (not all), seller_contact, shipping (not all), and many other features"
   ]
  },
  {
   "cell_type": "code",
   "execution_count": 10,
   "metadata": {},
   "outputs": [],
   "source": [
    "from collections import defaultdict"
   ]
  },
  {
   "cell_type": "code",
   "execution_count": 11,
   "metadata": {},
   "outputs": [],
   "source": [
    "keys_to_del = ['sub_status', 'deal_ids', 'seller_id',\n",
    "               'variations', 'location', 'attributes', 'tags', 'parent_item_id', 'coverage_areas',\n",
    "               'category_id', 'descriptions', 'last_updated', 'pictures', 'id', \"non_mercado_pago_payment_methods\",\n",
    "               'thumbnail', 'date_created', 'secure_thumbnail', 'stop_time',\n",
    "               'subtitle', 'start_time', 'permalink', 'geolocation']"
   ]
  },
  {
   "cell_type": "code",
   "execution_count": 12,
   "metadata": {},
   "outputs": [],
   "source": [
    "X_train_copy = X_train.copy()\n",
    "X_test_copy = X_test.copy()"
   ]
  },
  {
   "cell_type": "code",
   "execution_count": 13,
   "metadata": {},
   "outputs": [],
   "source": [
    "def delete_not_used_keys(dataset: list) -> list:\n",
    "    for item in dataset:\n",
    "        for key in keys_to_del:\n",
    "            del item[key]\n",
    "    return dataset"
   ]
  },
  {
   "cell_type": "code",
   "execution_count": 14,
   "metadata": {},
   "outputs": [],
   "source": [
    "X_train_copy = delete_not_used_keys(X_train_copy)\n",
    "X_test_copy = delete_not_used_keys(X_test_copy)"
   ]
  },
  {
   "cell_type": "code",
   "execution_count": 15,
   "metadata": {},
   "outputs": [],
   "source": [
    "def get_data(dataset: list) -> dict:\n",
    "    data = defaultdict(list)\n",
    "    for item in dataset:\n",
    "        for key in item.keys():\n",
    "            if key == \"seller_address\":\n",
    "                data[key + \"_country\"].append(item[key][\"country\"][\"name\"])\n",
    "                data[key + \"_city\"].append(item[key][\"city\"][\"name\"])\n",
    "                data[key + \"_state\"].append(item[key][\"state\"][\"name\"])\n",
    "            elif key == \"shipping\":\n",
    "                data[key + \"_free\"].append(item[key][\"free_shipping\"])\n",
    "            else:\n",
    "                data[key].append(item[key])\n",
    "\n",
    "    return data"
   ]
  },
  {
   "cell_type": "code",
   "execution_count": 16,
   "metadata": {},
   "outputs": [],
   "source": [
    "data_train = get_data(X_train_copy)"
   ]
  },
  {
   "cell_type": "code",
   "execution_count": 17,
   "metadata": {},
   "outputs": [],
   "source": [
    "data_test = get_data(X_test_copy)"
   ]
  },
  {
   "cell_type": "code",
   "execution_count": 18,
   "metadata": {},
   "outputs": [
    {
     "data": {
      "text/plain": [
       "dict_keys(['seller_address_country', 'seller_address_city', 'seller_address_state', 'warranty', 'seller_contact', 'base_price', 'shipping_free', 'site_id', 'listing_type_id', 'price', 'buying_mode', 'listing_source', 'international_delivery_mode', 'official_store_id', 'differential_pricing', 'accepts_mercadopago', 'original_price', 'currency_id', 'title', 'automatic_relist', 'status', 'video_id', 'catalog_product_id', 'initial_quantity', 'sold_quantity', 'available_quantity'])"
      ]
     },
     "execution_count": 18,
     "metadata": {},
     "output_type": "execute_result"
    }
   ],
   "source": [
    "data_train.keys()"
   ]
  },
  {
   "cell_type": "code",
   "execution_count": 19,
   "metadata": {},
   "outputs": [
    {
     "data": {
      "text/plain": [
       "dict_keys(['seller_address_country', 'seller_address_city', 'seller_address_state', 'warranty', 'seller_contact', 'base_price', 'shipping_free', 'site_id', 'listing_type_id', 'price', 'buying_mode', 'listing_source', 'international_delivery_mode', 'official_store_id', 'differential_pricing', 'accepts_mercadopago', 'original_price', 'currency_id', 'title', 'automatic_relist', 'status', 'video_id', 'catalog_product_id', 'initial_quantity', 'sold_quantity', 'available_quantity'])"
      ]
     },
     "execution_count": 19,
     "metadata": {},
     "output_type": "execute_result"
    }
   ],
   "source": [
    "data_test.keys()"
   ]
  },
  {
   "cell_type": "code",
   "execution_count": 24,
   "metadata": {},
   "outputs": [
    {
     "name": "stdout",
     "output_type": "stream",
     "text": [
      "TRAIN\n",
      "=====\n",
      "The lenght for SELLER_ADDRESS_COUNTRY is 90000\n",
      "The lenght for SELLER_ADDRESS_CITY is 90000\n",
      "The lenght for SELLER_ADDRESS_STATE is 90000\n",
      "The lenght for WARRANTY is 90000\n",
      "The lenght for SELLER_CONTACT is 90000\n",
      "The lenght for BASE_PRICE is 90000\n",
      "The lenght for SHIPPING_FREE is 90000\n",
      "The lenght for SITE_ID is 90000\n",
      "The lenght for LISTING_TYPE_ID is 90000\n",
      "The lenght for PRICE is 90000\n",
      "The lenght for BUYING_MODE is 90000\n",
      "The lenght for LISTING_SOURCE is 90000\n",
      "The lenght for INTERNATIONAL_DELIVERY_MODE is 90000\n",
      "The lenght for OFFICIAL_STORE_ID is 90000\n",
      "The lenght for DIFFERENTIAL_PRICING is 90000\n",
      "The lenght for ACCEPTS_MERCADOPAGO is 90000\n",
      "The lenght for ORIGINAL_PRICE is 90000\n",
      "The lenght for CURRENCY_ID is 90000\n",
      "The lenght for TITLE is 90000\n",
      "The lenght for AUTOMATIC_RELIST is 90000\n",
      "The lenght for STATUS is 90000\n",
      "The lenght for VIDEO_ID is 90000\n",
      "The lenght for CATALOG_PRODUCT_ID is 90000\n",
      "The lenght for INITIAL_QUANTITY is 90000\n",
      "The lenght for SOLD_QUANTITY is 90000\n",
      "The lenght for AVAILABLE_QUANTITY is 90000\n",
      "TEST\n",
      "=====\n",
      "The lenght for SELLER_ADDRESS_COUNTRY is 10000\n",
      "The lenght for SELLER_ADDRESS_CITY is 10000\n",
      "The lenght for SELLER_ADDRESS_STATE is 10000\n",
      "The lenght for WARRANTY is 10000\n",
      "The lenght for SELLER_CONTACT is 10000\n",
      "The lenght for BASE_PRICE is 10000\n",
      "The lenght for SHIPPING_FREE is 10000\n",
      "The lenght for SITE_ID is 10000\n",
      "The lenght for LISTING_TYPE_ID is 10000\n",
      "The lenght for PRICE is 10000\n",
      "The lenght for BUYING_MODE is 10000\n",
      "The lenght for LISTING_SOURCE is 10000\n",
      "The lenght for INTERNATIONAL_DELIVERY_MODE is 10000\n",
      "The lenght for OFFICIAL_STORE_ID is 10000\n",
      "The lenght for DIFFERENTIAL_PRICING is 10000\n",
      "The lenght for ACCEPTS_MERCADOPAGO is 10000\n",
      "The lenght for ORIGINAL_PRICE is 10000\n",
      "The lenght for CURRENCY_ID is 10000\n",
      "The lenght for TITLE is 10000\n",
      "The lenght for AUTOMATIC_RELIST is 10000\n",
      "The lenght for STATUS is 10000\n",
      "The lenght for VIDEO_ID is 10000\n",
      "The lenght for CATALOG_PRODUCT_ID is 10000\n",
      "The lenght for INITIAL_QUANTITY is 10000\n",
      "The lenght for SOLD_QUANTITY is 10000\n",
      "The lenght for AVAILABLE_QUANTITY is 10000\n"
     ]
    }
   ],
   "source": [
    "def review_dataset_size(data: dict, what_data: str) -> None:\n",
    "    size = 90000 if what_data == \"train\" else 10000\n",
    "    print(f\"{what_data.upper()}\")\n",
    "    print(\"=\" * 5)\n",
    "    for key in data.keys():\n",
    "        print(f\"The lenght for {key.upper()} is {len(data[key])}\")\n",
    "        assert len(data[key]) == size\n",
    "\n",
    "review_dataset_size(data_train, what_data=\"train\")\n",
    "review_dataset_size(data_test, what_data=\"test\")"
   ]
  },
  {
   "cell_type": "markdown",
   "metadata": {},
   "source": [
    "##### Create Dataframes"
   ]
  },
  {
   "cell_type": "code",
   "execution_count": 182,
   "metadata": {},
   "outputs": [],
   "source": [
    "train_df = pd.DataFrame(columns=list(data_train.keys()))"
   ]
  },
  {
   "cell_type": "code",
   "execution_count": 183,
   "metadata": {},
   "outputs": [
    {
     "name": "stdout",
     "output_type": "stream",
     "text": [
      "seller_address_country\n",
      "seller_address_city\n",
      "seller_address_state\n",
      "warranty\n",
      "seller_contact\n",
      "base_price\n",
      "shipping_free\n",
      "site_id\n",
      "listing_type_id\n",
      "price\n",
      "buying_mode\n",
      "listing_source\n",
      "international_delivery_mode\n",
      "official_store_id\n",
      "differential_pricing\n",
      "accepts_mercadopago\n",
      "original_price\n",
      "currency_id\n",
      "title\n",
      "automatic_relist\n",
      "status\n",
      "video_id\n",
      "catalog_product_id\n",
      "initial_quantity\n",
      "sold_quantity\n",
      "available_quantity\n"
     ]
    }
   ],
   "source": [
    "for col in train_df.columns:\n",
    "    print(col)\n",
    "    train_df[col] = data_train[col]"
   ]
  },
  {
   "cell_type": "code",
   "execution_count": 184,
   "metadata": {},
   "outputs": [],
   "source": [
    "test_df = pd.DataFrame(columns=list(data_test.keys()))"
   ]
  },
  {
   "cell_type": "code",
   "execution_count": 185,
   "metadata": {},
   "outputs": [
    {
     "name": "stdout",
     "output_type": "stream",
     "text": [
      "seller_address_country\n",
      "seller_address_city\n",
      "seller_address_state\n",
      "warranty\n",
      "seller_contact\n",
      "base_price\n",
      "shipping_free\n",
      "site_id\n",
      "listing_type_id\n",
      "price\n",
      "buying_mode\n",
      "listing_source\n",
      "international_delivery_mode\n",
      "official_store_id\n",
      "differential_pricing\n",
      "accepts_mercadopago\n",
      "original_price\n",
      "currency_id\n",
      "title\n",
      "automatic_relist\n",
      "status\n",
      "video_id\n",
      "catalog_product_id\n",
      "initial_quantity\n",
      "sold_quantity\n",
      "available_quantity\n"
     ]
    }
   ],
   "source": [
    "for col in test_df.columns:\n",
    "    print(col)\n",
    "    test_df[col] = data_test[col]"
   ]
  },
  {
   "cell_type": "code",
   "execution_count": 186,
   "metadata": {},
   "outputs": [],
   "source": [
    "train_df[\"target\"] = y_train\n",
    "test_df[\"target\"] = y_test"
   ]
  },
  {
   "cell_type": "code",
   "execution_count": 31,
   "metadata": {},
   "outputs": [],
   "source": [
    "def create_dataframe(data: dict, y: pd.DataFrame) -> pd.DataFrame:\n",
    "    df = pd.DataFrame(columns=list(data.keys()))\n",
    "    for col in df.columns:\n",
    "        df[col] = data[col]\n",
    "    df[\"target\"] = y\n",
    "\n",
    "    return df"
   ]
  },
  {
   "cell_type": "code",
   "execution_count": 32,
   "metadata": {},
   "outputs": [],
   "source": [
    "train_df = create_dataframe(data_train, y_train)\n",
    "test_df = create_dataframe(data_test, y_test)"
   ]
  },
  {
   "cell_type": "code",
   "execution_count": 33,
   "metadata": {},
   "outputs": [
    {
     "data": {
      "text/plain": [
       "((90000, 27), (10000, 27))"
      ]
     },
     "execution_count": 33,
     "metadata": {},
     "output_type": "execute_result"
    }
   ],
   "source": [
    "train_df.shape, test_df.shape"
   ]
  },
  {
   "cell_type": "markdown",
   "metadata": {},
   "source": [
    "##### Save Dataframes to csv files"
   ]
  },
  {
   "cell_type": "code",
   "execution_count": 38,
   "metadata": {},
   "outputs": [],
   "source": [
    "def save_dataframe(df: pd.DataFrame, data_type: str) -> None:\n",
    "    df.to_csv(\"../data/\" + data_type + \".csv\", index=False)"
   ]
  },
  {
   "cell_type": "code",
   "execution_count": 39,
   "metadata": {},
   "outputs": [],
   "source": [
    "save_dataframe(train_df, data_type=\"train\")\n",
    "save_dataframe(test_df, data_type=\"test\")"
   ]
  },
  {
   "cell_type": "code",
   "execution_count": null,
   "metadata": {},
   "outputs": [],
   "source": []
  }
 ],
 "metadata": {
  "kernelspec": {
   "display_name": "Python 3",
   "language": "python",
   "name": "python3"
  },
  "language_info": {
   "codemirror_mode": {
    "name": "ipython",
    "version": 3
   },
   "file_extension": ".py",
   "mimetype": "text/x-python",
   "name": "python",
   "nbconvert_exporter": "python",
   "pygments_lexer": "ipython3",
   "version": "3.7.7"
  }
 },
 "nbformat": 4,
 "nbformat_minor": 4
}
